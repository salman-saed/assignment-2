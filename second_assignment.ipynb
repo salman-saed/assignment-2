{
 "cells": [
  {
   "cell_type": "markdown",
   "id": "8753206b",
   "metadata": {},
   "source": [
    "# Assignment #02 ( List, Dictionary, Loops, if-else)"
   ]
  },
  {
   "cell_type": "markdown",
   "id": "8a03553c",
   "metadata": {},
   "source": [
    "**Scenario 1: Grocery Shopping List**\n",
    "- You are creating a program to manage a grocery shopping list. Users should be able to add items, remove items, and display the current list."
   ]
  },
  {
   "cell_type": "code",
   "execution_count": null,
   "id": "bfa39611",
   "metadata": {},
   "outputs": [],
   "source": [
    "grocery_list = [\"milk\",\"bread\",\"shuger\",\"oil\"]\n",
    "grocery_list.append(\"red chilli\")\n",
    "\n",
    "grocery_list\n",
    "del grocery_list [2]\n",
    "grocery_list"
   ]
  },
  {
   "cell_type": "markdown",
   "id": "5b428e5f",
   "metadata": {},
   "source": [
    "**Scenario 2: Student Grades**\n",
    "- You are managing student grades using a dictionary. You need to calculate the average grade.take atleast 5 Students grades & then calculate the average."
   ]
  },
  {
   "cell_type": "code",
   "execution_count": null,
   "id": "aff270e0",
   "metadata": {},
   "outputs": [],
   "source": [
    "student_grades = {\n",
    "    'student1': 85,\n",
    "    'student2': 90,\n",
    "    'student3': 78,\n",
    "    'student4': 95,\n",
    "    'student5': 88\n",
    "}\n",
    "average_grade = sum(student_grades.values())/len(student_grades)\n",
    "print(f\" Average Grade: {average_grade}\")"
   ]
  },
  {
   "cell_type": "markdown",
   "id": "30a4eeef",
   "metadata": {},
   "source": [
    "**Scenario 3: Word Frequency Counter**\n",
    "- You are given a list of words, and you need to count the frequency of each word.\n",
    "- word_list = [\"apple\", \"banana\", \"apple\", \"orange\", \"banana\", \"grape\", \"apple\"]"
   ]
  },
  {
   "cell_type": "code",
   "execution_count": null,
   "id": "df7c8616",
   "metadata": {},
   "outputs": [],
   "source": [
    "word_list = [\"apple\",\"banana\",\"apple\",\"orange\",\"banana\",\"grape\",\"apple\"]\n",
    "\n",
    "freq = [word_list.count(ele)for ele in word_list]\n",
    "print(freq)\n"
   ]
  },
  {
   "cell_type": "markdown",
   "id": "0d1b21ac",
   "metadata": {},
   "source": [
    "**Scenario 4: Password Strength Checker**\n",
    "- You are creating a program to check the strength of passwords based on certain criteria.  \n",
    "• Password should be at least 8 characters long.  \n",
    "• Password should contain at least one digit.  \n",
    "• Password should contain at least one letter.  "
   ]
  },
  {
   "cell_type": "code",
   "execution_count": 10,
   "id": "6482dcf9",
   "metadata": {},
   "outputs": [
    {
     "name": "stdout",
     "output_type": "stream",
     "text": [
      "enter your password salman12\n",
      "password must be 8 charcters long\n"
     ]
    }
   ],
   "source": [
    "password = input(\"enter your password \")\n",
    "if len(password) <= 8:\n",
    "    print(\"password must be 8 charcters long\")\n",
    "elif not re.search(\"[a-z]\",password):\n",
    "    print(\"Password should contain at least one letter.\")\n",
    "elif not re.search(\"[1-9]\",password):\n",
    "    print(\"Password should contain at least one letter.\")\n",
    "else:\n",
    "    print(\"password is strong!.\")"
   ]
  },
  {
   "cell_type": "markdown",
   "id": "b32f3fd0",
   "metadata": {},
   "source": [
    "**Scenario 04: Voting System (Annual Employee Recognition Awards)**  \n",
    "- You are developing a simple voting system for a contest. Users can vote for their Favorite option, and you need to count the votes.  \n",
    "- In a corporate setting, the HR department is organizing the Annual Employee Recognition Awards, where employees get the opportunity to vote for their colleagues nominated in different categories. The HR team has decided to use a simple voting system to collect and tally votes for the nominees in various award categories. The script provided will be utilized for this purpose.  \n",
    "- Candidates: The nominees for different award categories, such as \"Employee of the Year,\" \"Team Player of the Year,\" and \"Innovation Award,\" are represented by the list of candidates: 'Candidate A,' 'Candidate B,' and 'Candidate C.'   \n",
    "- Voting Process: Employees are requested to input the number of voters participating in the awards. Each voter is presented with a list of nominees, and they can vote for their preferred candidate by entering the corresponding number.   \n",
    "- Validation: The script ensures that the entered vote is within the valid range of candidates. If an employee enters an invalid vote, the system prompts them to choose a valid candidate.   \n",
    "- Recording Votes: The script records each vote for the selected candidate and prints a confirmation message indicating that the vote has been recorded.  \n",
    "- Results Display: Once all votes are collected, the system displays the voting results, showing the number of votes each candidate received in each category.   \n",
    "- Award Winners: Based on the voting results, the HR department can identify the winners for each award category and proceed with recognizing and rewarding the selected employees during the Annual Employee Recognition Ceremony.   \n",
    "- This script provides a straightforward and transparent way for employees to participate in the recognition process, fostering a sense of engagement and community within the organization. The HR team can use the collected votes to acknowledge and appreciate the efforts of outstanding employees in various aspects of their work.  "
   ]
  },
  {
   "cell_type": "code",
   "execution_count": 3,
   "id": "52517bf4",
   "metadata": {},
   "outputs": [
    {
     "ename": "SyntaxError",
     "evalue": "expected 'except' or 'finally' block (4234453714.py, line 17)",
     "output_type": "error",
     "traceback": [
      "\u001b[1;36m  Cell \u001b[1;32mIn[3], line 17\u001b[1;36m\u001b[0m\n\u001b[1;33m    selected_candidate=input(\"Enter the number corresponding to your chosen candidate: \")\u001b[0m\n\u001b[1;37m    ^\u001b[0m\n\u001b[1;31mSyntaxError\u001b[0m\u001b[1;31m:\u001b[0m expected 'except' or 'finally' block\n"
     ]
    }
   ],
   "source": [
    "candidates = {\n",
    "    'Employee of the year': 'Candidate A',\n",
    "    'Team player of the year': 'Candidate B',\n",
    "    'Innovation Award': 'Candidate C'\n",
    "}\n",
    "votes = {category: {candidate: 0 for candidate in candidates.values()} for category in candidates}\n",
    "\n",
    "def vote_system():\n",
    "    num_voters = int(input(\"Enter the number of voters participating:\"))\n",
    "    \n",
    "    for _ in range(num_voters):\n",
    "        print(\"\\nNominees:\")\n",
    "    for category, candidate in candidates.items():\n",
    "        print(f\"{category}: {candidate}\")\n",
    "        try:\n",
    "            category = input(\"Enter the category you want to vote for: \")\n",
    "        selected_candidate=input(\"Enter the number corresponding to your chosen candidate: \")\n",
    "        if selected_candidate in candidate.values():\n",
    "        votes[category] [selected_candidate] += 1\n",
    "        print(f\"vote recorded for {selected_candidate} in {category}.\")\n",
    "        else:\n",
    "            print(\"invalid category. please choose a valid candidate.\")\n",
    "            except keyError:\n",
    "                print(\"invalid category. please choose a valid category.\")\n",
    "                    \n",
    "def display_results():\n",
    "    print(\"\\nVoting Results:\")\n",
    "    for category, candidates_votes in votes.items():\n",
    "        print(f\"{category} votes:\")\n",
    "    for candidate, count in candidates_votes.items():\n",
    "        print(f\"{candidate}: {count} vote\")"
   ]
  },
  {
   "cell_type": "code",
   "execution_count": null,
   "id": "c312e131",
   "metadata": {},
   "outputs": [],
   "source": []
  }
 ],
 "metadata": {
  "kernelspec": {
   "display_name": "Python 3 (ipykernel)",
   "language": "python",
   "name": "python3"
  },
  "language_info": {
   "codemirror_mode": {
    "name": "ipython",
    "version": 3
   },
   "file_extension": ".py",
   "mimetype": "text/x-python",
   "name": "python",
   "nbconvert_exporter": "python",
   "pygments_lexer": "ipython3",
   "version": "3.11.5"
  }
 },
 "nbformat": 4,
 "nbformat_minor": 5
}
